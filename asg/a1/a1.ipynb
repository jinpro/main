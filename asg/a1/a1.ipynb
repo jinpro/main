{
 "cells": [
  {
   "cell_type": "markdown",
   "metadata": {},
   "source": [
    "# CS579: Assignment 1\n",
    "## Collecting a political social network\n",
    "\n",
    "In this assignment, I've given you a list of Twitter accounts of 15 U.S. presedential candidates.\n",
    "The goal is to use the Twitter API to construct a social network of these accounts. We will then use the [networkx](http://networkx.github.io/) library to plot these links, as well as print some statistics of the resulting graph.\n",
    "\n",
    "1. Copy the files from this directory into the `asg/a1` folder of your private repository.\n",
    "2. Create an account on [twitter.com](http://twitter.com).\n",
    "3. Generate authentication tokens by following the instructions [here](https://dev.twitter.com/docs/auth/tokens-devtwittercom).\n",
    "4. Add your tokens to the `twitter.cfg` file. (API Key == Consumer Key)\n",
    "5. Be sure you've installed the Python modules [networkx](http://networkx.github.io/) and [TwitterAPI](https://github.com/geduldig/TwitterAPI). Assuming you've already installed [pip](http://pip.readthedocs.org/en/latest/installing.html), you can do this with `pip install networkx TwitterAPI`.\n",
    "\n",
    "OK, now you're ready to start collecting some data!\n",
    "\n",
    "I've provided a partial implementation below. Your job is to complete the code where indicated.  \n",
    "You only need to modify the 6 methods indicated by **#TODO**\n",
    "\n",
    "Your output should match the samples provided below."
   ]
  },
  {
   "cell_type": "code",
   "execution_count": 17,
   "metadata": {
    "collapsed": false,
    "scrolled": true
   },
   "outputs": [],
   "source": [
    "# Imports you'll need.\n",
    "from collections import Counter\n",
    "import ConfigParser\n",
    "import matplotlib.pyplot as plt\n",
    "import networkx as nx\n",
    "import sys\n",
    "import time\n",
    "from TwitterAPI import TwitterAPI\n",
    "import json\n",
    "\n",
    "%matplotlib inline"
   ]
  },
  {
   "cell_type": "code",
   "execution_count": 18,
   "metadata": {
    "collapsed": false
   },
   "outputs": [
    {
     "name": "stdout",
     "output_type": "stream",
     "text": [
      "Established Twitter connection.\n"
     ]
    }
   ],
   "source": [
    "\n",
    "# This method is done for you. Make sure to put your credentials in twitter.cfg.\n",
    "def get_twitter(config_file):\n",
    "    \"\"\" Read the config_file and construct an instance of TwitterAPI.\n",
    "    Args:\n",
    "      config_file ... A config file in ConfigParser format with Twitter credentials\n",
    "    Returns:\n",
    "      An instance of TwitterAPI.\n",
    "    \"\"\"\n",
    "    config = ConfigParser.ConfigParser()\n",
    "    config.read(config_file)\n",
    "    twitter = TwitterAPI(\n",
    "                   config.get('twitter', 'consumer_key'),\n",
    "                   config.get('twitter', 'consumer_secret'),\n",
    "                   config.get('twitter', 'access_token'),\n",
    "                   config.get('twitter', 'access_token_secret'))\n",
    "    return twitter\n",
    "\n",
    "twitter = get_twitter('twitter.cfg')\n",
    "print('Established Twitter connection.')\n"
   ]
  },
  {
   "cell_type": "code",
   "execution_count": 19,
   "metadata": {
    "collapsed": false
   },
   "outputs": [
    {
     "name": "stdout",
     "output_type": "stream",
     "text": [
      "Read 15 candidates\n",
      "('HillaryClinton', 'D')\n",
      "('BernieSanders', 'D')\n",
      "('MartinOMalley', 'D')\n",
      "('JoeBiden', 'D')\n",
      "('JimWebbUSA', 'D')\n",
      "('realDonaldTrump', 'R')\n",
      "('JebBush', 'R')\n",
      "('RealBenCarson', 'R')\n",
      "('marcorubio', 'R')\n",
      "('ScottWalker', 'R')\n",
      "('tedcruz', 'R')\n",
      "('CarlyFiorina', 'R')\n",
      "('GovMikeHuckabee', 'R')\n",
      "('govchristie', 'R')\n",
      "('DrRandPaul', 'R')\n"
     ]
    }
   ],
   "source": [
    "def read_candidates(filename):\n",
    "    \"\"\" Read a list of usernames for U.S. presedential candidates\n",
    "    Args:\n",
    "      filename: The name of the text file containing in format:\n",
    "         <twitter handle> <R or D for Republican or Democrat>\n",
    "    Returns:\n",
    "      A list of (string, string) tuples representing each (handle, party) pair.\n",
    "    \"\"\"\n",
    "    # TODO\n",
    "    candidates = []\n",
    "    f = open(filename, \"r\")\n",
    "    \n",
    "    while True:\n",
    "        line = f.readline()\n",
    "        if not line:\n",
    "            break\n",
    "        line = line.strip()\n",
    "        arr = line.split(' ')\n",
    "        candidates.append((arr[0], arr[1]))\n",
    "    f.close()\n",
    "    return candidates\n",
    "    \n",
    "candidates = read_candidates('candidates.txt')\n",
    "print('Read %d candidates' % len(candidates))\n",
    "print('\\n'.join(str(x) for x in candidates))"
   ]
  },
  {
   "cell_type": "code",
   "execution_count": 20,
   "metadata": {
    "collapsed": false
   },
   "outputs": [
    {
     "name": "stdout",
     "output_type": "stream",
     "text": [
      "10 republicans, 5 democrats\n"
     ]
    }
   ],
   "source": [
    "# separate candidates by party.\n",
    "republicans = [c[0] for c in candidates if c[1] == 'R']\n",
    "democrats = [c[0] for c in candidates if c[1] == 'D']\n",
    "print('%d republicans, %d democrats' % (len(republicans), len(democrats)))"
   ]
  },
  {
   "cell_type": "code",
   "execution_count": 21,
   "metadata": {
    "collapsed": true
   },
   "outputs": [],
   "source": [
    "# I've provided the method below to handle Twitter's rate limiting.\n",
    "def robust_request(twitter, resource, params, max_tries=5):\n",
    "    \"\"\" If a Twitter request fails, sleep for 15 minutes.\n",
    "    Do this at most max_tries times before quitting.\n",
    "    Args:\n",
    "      twitter .... A TwitterAPI object.\n",
    "      resource ... A resource string to request.\n",
    "      params ..... A parameter dictionary for the request.\n",
    "      max_tries .. The maximum number of tries to attempt.\n",
    "    Returns:\n",
    "      A TwitterResponse object, or None if failed.\n",
    "    \"\"\"\n",
    "    for i in range(max_tries):\n",
    "        request = twitter.request(resource, params)\n",
    "        if request.status_code == 200:\n",
    "            return request\n",
    "        else:\n",
    "            print >> sys.stderr, 'Got error:', request.text, '\\nsleeping for 15 minutes.'\n",
    "            sys.stderr.flush()\n",
    "            time.sleep(61 * 15)"
   ]
  },
  {
   "cell_type": "code",
   "execution_count": 22,
   "metadata": {
    "collapsed": false
   },
   "outputs": [
    {
     "name": "stdout",
     "output_type": "stream",
     "text": [
      "[u'jk_rowling', u'Chicago_now', u'FetchPHP', u'BeerRightNowChi', u'CrimeMonitor', u'SocialInChicago', u'numoviesfordays', u'chaithuu', u'new_waystowork', u'LearningLaravel', u'JAYxiaomuzhu', u'Klarity', u'mvogtman', u'taylorswift13', u'alex_recker', u'ktaletsk', u'Libresyacordes', u'JavierSearight', u'JamesTVReeves', u'TheEllenShow', u'WilliamWHorton', u'Runspired', u'AviatorPolo', u'Egison_Lang', u'KaRan20686549', u'jaseemabid', u'SportsCenter', u'FilmsbyChampion', u'JohnLegere', u'jasonrap', u'brmore', u'projhauntdhouse', u'wareFLO', u'BeckersHR', u'h_mori', u'said_mitch', u'ClintChil', u'MonicaKomperda', u'OchoTex', u'breakingskyler', u'NNasrall', u'MikaMommyof3', u'joewalnes', u'sukhvirkang25', u'healthlawwillis', u'farfromrest', u'TimeOutChicago', u'ChicagoMag', u'niying7', u'IfMatt', u'SullyHIT', u'jimmyfallon', u'Brad_Justus', u'OneInABajilian', u'OwensMurphy', u'erenadil5886', u'NHLBlackhawks', u'chicagobulls', u'tavisrudd', u'BricePuls', u'cta', u'rgrinb', u'thoughtpalette', u'zhangwb2008', u'231095Boss', u'adharshov', u'varun_iiml', u'zaidos', u'nuthatch', u'abahealthlaw', u'dataScienceRet', u'kyleisom', u'noisivelvet', u'maurycyszmurlo', u'DanielZarick', u'THEMikeCarreon', u'AltConference', u'apunkvenus', u'templarian', u'craigandera', u'GaureshPandit', u'ShimCode', u'ToledoRrpp', u'etrepum', u'Chicago_Reader', u'EmileCambry', u'mattdaw', u'socksandpuns', u'lfeoss', u'redeyechicago', u'MaiaWorrell', u'kathymccoy', u'nbcchicago', u'kalehummus', u'chespinoza_75', u'FierceHealth', u'bflvs', u'tradingonfire', u'askjoyrios', u'ModernHealthLaw', u'TheRealTonySco', u'_katiehannan', u'thekatylynch', u'Chicagoist', u'HuffPostChicago', u'CoderDennis', u'_DallasFP', u'COMETHRUGIRL', u'Cerner', u'Drake', u'Suntimes', u'Matt_R_Fisher', u'Quesada', u'stakeirria', u'healthnutsfly', u'parth1634', u'DrMarkCLewis', u'MrHellwig', u'nsm1168', u'doxanthropos', u'id22', u'alex_elizabeth9', u'ErlangLisp', u'RichardSan99', u'TreaMO4', u'bradjensen', u'IsIonelalove', u'oubiwann', u'WeAreWearables', u's5s5', u'phpdeveloper', u'yousgame', u'imRhythm', u'birjeshm36', u'relrod6', u'Hazardous06', u'iceloveboa', u'frodwith', u'ChristopherA', u'LambdaCon', u'elina_filipp', u'merelyonly', u'786badarBada', u'HotDealsGuru', u'venon_nogueira', u'Zentch1992', u'phillyjare', u'mcgeerosa', u'richard_fearn', u'journeyupdate', u'StudentUniverse', u'TommyMathews', u'that_cannon_guy', u'bheron', u'BLUE1647', u'0dayZh', u'vipulhemant88', u'bryan_hunter', u'AerosoftSurat', u'RavMark', u'WeilinXU', u'EricTendian', u'AlyssaNicoll', u'InvincibleTrick', u'tunam3lt', u'wizardchen', u'mcshanag', u'rmakadiya15', u'HackLang', u'sunjune', u'gitlab', u'SaraKong1984', u'perfectfoolish', u'QMChar', u'jkillahceo', u'michaelee', u'jesse0628', u'pocmatos', u'ArshadFans', u'spdegabrielle', u'LispWorld', u'Jack_king_fly', u'davy256', u'MichaelButkovic', u'HarshMadhvi', u'bengxia', u'its19anand', u'LokeshMeghwal14', u'chicagotribune', u'Rahulkrish013', u'SongQi517', u'rb_trader', u'hyperjeff', u'KayleeGwyn', u'bflash111', u'Brock', u'lls6145219', u'gvmtCheese', u'luchogarciaquin', u'BryanLuby']\n"
     ]
    }
   ],
   "source": [
    "import json\n",
    "def get_friends(screen_name):\n",
    "    \"\"\" Return a list of the users that this person follows on Twitter, up to 200.\n",
    "    See https://dev.twitter.com/rest/reference/get/friends/list \n",
    "    Note, because of rate limits, it's best to test this method for one candidate before trying\n",
    "    on all candidates.\n",
    "    \n",
    "    Args:\n",
    "        screen_name: a string of a Twitter screen name\n",
    "    Returns:\n",
    "        A list of strings, one per friend.\n",
    "    Note: Many users follow more than 200 accounts; we will limit ourselves to\n",
    "    the first 200 accounts returned.\n",
    "    \"\"\"\n",
    "    # TODO\n",
    "    result = twitter.request('friends/list',{'screen_name': screen_name, 'cursor': -1, 'count': 200})\n",
    "    friends_list = []\n",
    "    for item in result.get_iterator():\n",
    "        friends_list.append(item[\"screen_name\"])\n",
    "    return friends_list\n",
    "friends_list = get_friends(\"ae19051\")\n",
    "print(friends_list)"
   ]
  },
  {
   "cell_type": "code",
   "execution_count": 25,
   "metadata": {
    "collapsed": false,
    "scrolled": true
   },
   "outputs": [],
   "source": [
    "def get_all_friends(screen_names):\n",
    "    \"\"\" Get the friends for all the users in usernames.\n",
    "    I.e., call get_friends for all 15 candidates.\n",
    "    Args:\n",
    "        screen_names: a list of Twitter screen names, one per candidate\n",
    "    Returns:\n",
    "        a dict mapping each candidate's username (string) to a list of his/her friends (strings)\n",
    "    \"\"\"\n",
    "    return {n: get_friends(n) for n in screen_names}\n"
   ]
  },
  {
   "cell_type": "code",
   "execution_count": 24,
   "metadata": {
    "collapsed": false,
    "scrolled": true
   },
   "outputs": [
    {
     "ename": "TwitterRequestError",
     "evalue": "Twitter request failed (429)",
     "output_type": "error",
     "traceback": [
      "\u001b[0;31m---------------------------------------------------------------------------\u001b[0m",
      "\u001b[0;31mTwitterRequestError\u001b[0m                       Traceback (most recent call last)",
      "\u001b[0;32m<ipython-input-24-14d44ec674c4>\u001b[0m in \u001b[0;36m<module>\u001b[0;34m()\u001b[0m\n\u001b[0;32m----> 1\u001b[0;31m \u001b[0mcandidate2friends\u001b[0m \u001b[0;34m=\u001b[0m \u001b[0mget_all_friends\u001b[0m\u001b[0;34m(\u001b[0m\u001b[0mc\u001b[0m\u001b[0;34m[\u001b[0m\u001b[0;36m0\u001b[0m\u001b[0;34m]\u001b[0m \u001b[0;32mfor\u001b[0m \u001b[0mc\u001b[0m \u001b[0;32min\u001b[0m \u001b[0mcandidates\u001b[0m\u001b[0;34m)\u001b[0m\u001b[0;34m\u001b[0m\u001b[0m\n\u001b[0m",
      "\u001b[0;32m<ipython-input-23-616ef22cafc4>\u001b[0m in \u001b[0;36mget_all_friends\u001b[0;34m(screen_names)\u001b[0m\n\u001b[1;32m      7\u001b[0m         \u001b[0ma\u001b[0m \u001b[0mdict\u001b[0m \u001b[0mmapping\u001b[0m \u001b[0meach\u001b[0m \u001b[0mcandidate\u001b[0m\u001b[0;31m'\u001b[0m\u001b[0ms\u001b[0m \u001b[0musername\u001b[0m \u001b[0;34m(\u001b[0m\u001b[0mstring\u001b[0m\u001b[0;34m)\u001b[0m \u001b[0mto\u001b[0m \u001b[0ma\u001b[0m \u001b[0mlist\u001b[0m \u001b[0mof\u001b[0m \u001b[0mhis\u001b[0m\u001b[0;34m/\u001b[0m\u001b[0mher\u001b[0m \u001b[0mfriends\u001b[0m \u001b[0;34m(\u001b[0m\u001b[0mstrings\u001b[0m\u001b[0;34m)\u001b[0m\u001b[0;34m\u001b[0m\u001b[0m\n\u001b[1;32m      8\u001b[0m     \"\"\"\n\u001b[0;32m----> 9\u001b[0;31m     \u001b[0;32mreturn\u001b[0m \u001b[0;34m{\u001b[0m\u001b[0mn\u001b[0m\u001b[0;34m:\u001b[0m \u001b[0mget_friends\u001b[0m\u001b[0;34m(\u001b[0m\u001b[0mn\u001b[0m\u001b[0;34m)\u001b[0m \u001b[0;32mfor\u001b[0m \u001b[0mn\u001b[0m \u001b[0;32min\u001b[0m \u001b[0mscreen_names\u001b[0m\u001b[0;34m}\u001b[0m\u001b[0;34m\u001b[0m\u001b[0m\n\u001b[0m\u001b[1;32m     10\u001b[0m \u001b[0;34m\u001b[0m\u001b[0m\n\u001b[1;32m     11\u001b[0m \u001b[0;32mprint\u001b[0m\u001b[0;34m(\u001b[0m\u001b[0mget_all_friends\u001b[0m\u001b[0;34m(\u001b[0m\u001b[0;34m[\u001b[0m\u001b[0;34m'HillaryClinton'\u001b[0m\u001b[0;34m]\u001b[0m\u001b[0;34m)\u001b[0m\u001b[0;34m)\u001b[0m\u001b[0;34m\u001b[0m\u001b[0m\n",
      "\u001b[0;32m<ipython-input-23-616ef22cafc4>\u001b[0m in \u001b[0;36m<dictcomp>\u001b[0;34m((n,))\u001b[0m\n\u001b[1;32m      7\u001b[0m         \u001b[0ma\u001b[0m \u001b[0mdict\u001b[0m \u001b[0mmapping\u001b[0m \u001b[0meach\u001b[0m \u001b[0mcandidate\u001b[0m\u001b[0;31m'\u001b[0m\u001b[0ms\u001b[0m \u001b[0musername\u001b[0m \u001b[0;34m(\u001b[0m\u001b[0mstring\u001b[0m\u001b[0;34m)\u001b[0m \u001b[0mto\u001b[0m \u001b[0ma\u001b[0m \u001b[0mlist\u001b[0m \u001b[0mof\u001b[0m \u001b[0mhis\u001b[0m\u001b[0;34m/\u001b[0m\u001b[0mher\u001b[0m \u001b[0mfriends\u001b[0m \u001b[0;34m(\u001b[0m\u001b[0mstrings\u001b[0m\u001b[0;34m)\u001b[0m\u001b[0;34m\u001b[0m\u001b[0m\n\u001b[1;32m      8\u001b[0m     \"\"\"\n\u001b[0;32m----> 9\u001b[0;31m     \u001b[0;32mreturn\u001b[0m \u001b[0;34m{\u001b[0m\u001b[0mn\u001b[0m\u001b[0;34m:\u001b[0m \u001b[0mget_friends\u001b[0m\u001b[0;34m(\u001b[0m\u001b[0mn\u001b[0m\u001b[0;34m)\u001b[0m \u001b[0;32mfor\u001b[0m \u001b[0mn\u001b[0m \u001b[0;32min\u001b[0m \u001b[0mscreen_names\u001b[0m\u001b[0;34m}\u001b[0m\u001b[0;34m\u001b[0m\u001b[0m\n\u001b[0m\u001b[1;32m     10\u001b[0m \u001b[0;34m\u001b[0m\u001b[0m\n\u001b[1;32m     11\u001b[0m \u001b[0;32mprint\u001b[0m\u001b[0;34m(\u001b[0m\u001b[0mget_all_friends\u001b[0m\u001b[0;34m(\u001b[0m\u001b[0;34m[\u001b[0m\u001b[0;34m'HillaryClinton'\u001b[0m\u001b[0;34m]\u001b[0m\u001b[0;34m)\u001b[0m\u001b[0;34m)\u001b[0m\u001b[0;34m\u001b[0m\u001b[0m\n",
      "\u001b[0;32m<ipython-input-22-556a8bab966a>\u001b[0m in \u001b[0;36mget_friends\u001b[0;34m(screen_name)\u001b[0m\n\u001b[1;32m     16\u001b[0m     \u001b[0mresult\u001b[0m \u001b[0;34m=\u001b[0m \u001b[0mtwitter\u001b[0m\u001b[0;34m.\u001b[0m\u001b[0mrequest\u001b[0m\u001b[0;34m(\u001b[0m\u001b[0;34m'friends/list'\u001b[0m\u001b[0;34m,\u001b[0m\u001b[0;34m{\u001b[0m\u001b[0;34m'screen_name'\u001b[0m\u001b[0;34m:\u001b[0m \u001b[0mscreen_name\u001b[0m\u001b[0;34m,\u001b[0m \u001b[0;34m'cursor'\u001b[0m\u001b[0;34m:\u001b[0m \u001b[0;34m-\u001b[0m\u001b[0;36m1\u001b[0m\u001b[0;34m,\u001b[0m \u001b[0;34m'count'\u001b[0m\u001b[0;34m:\u001b[0m \u001b[0;36m200\u001b[0m\u001b[0;34m}\u001b[0m\u001b[0;34m)\u001b[0m\u001b[0;34m\u001b[0m\u001b[0m\n\u001b[1;32m     17\u001b[0m     \u001b[0mfriends_list\u001b[0m \u001b[0;34m=\u001b[0m \u001b[0;34m[\u001b[0m\u001b[0;34m]\u001b[0m\u001b[0;34m\u001b[0m\u001b[0m\n\u001b[0;32m---> 18\u001b[0;31m     \u001b[0;32mfor\u001b[0m \u001b[0mitem\u001b[0m \u001b[0;32min\u001b[0m \u001b[0mresult\u001b[0m\u001b[0;34m.\u001b[0m\u001b[0mget_iterator\u001b[0m\u001b[0;34m(\u001b[0m\u001b[0;34m)\u001b[0m\u001b[0;34m:\u001b[0m\u001b[0;34m\u001b[0m\u001b[0m\n\u001b[0m\u001b[1;32m     19\u001b[0m         \u001b[0mfriends_list\u001b[0m\u001b[0;34m.\u001b[0m\u001b[0mappend\u001b[0m\u001b[0;34m(\u001b[0m\u001b[0mitem\u001b[0m\u001b[0;34m[\u001b[0m\u001b[0;34m\"screen_name\"\u001b[0m\u001b[0;34m]\u001b[0m\u001b[0;34m)\u001b[0m\u001b[0;34m\u001b[0m\u001b[0m\n\u001b[1;32m     20\u001b[0m     \u001b[0;32mreturn\u001b[0m \u001b[0mfriends_list\u001b[0m\u001b[0;34m\u001b[0m\u001b[0m\n",
      "\u001b[0;32m/Users/jinyu/anaconda/lib/python2.7/site-packages/TwitterAPI/TwitterAPI.pyc\u001b[0m in \u001b[0;36mget_iterator\u001b[0;34m(self)\u001b[0m\n\u001b[1;32m    164\u001b[0m         \"\"\"\n\u001b[1;32m    165\u001b[0m         \u001b[0;32mif\u001b[0m \u001b[0mself\u001b[0m\u001b[0;34m.\u001b[0m\u001b[0mresponse\u001b[0m\u001b[0;34m.\u001b[0m\u001b[0mstatus_code\u001b[0m \u001b[0;34m!=\u001b[0m \u001b[0;36m200\u001b[0m\u001b[0;34m:\u001b[0m\u001b[0;34m\u001b[0m\u001b[0m\n\u001b[0;32m--> 166\u001b[0;31m             \u001b[0;32mraise\u001b[0m \u001b[0mTwitterRequestError\u001b[0m\u001b[0;34m(\u001b[0m\u001b[0mself\u001b[0m\u001b[0;34m.\u001b[0m\u001b[0mresponse\u001b[0m\u001b[0;34m.\u001b[0m\u001b[0mstatus_code\u001b[0m\u001b[0;34m)\u001b[0m\u001b[0;34m\u001b[0m\u001b[0m\n\u001b[0m\u001b[1;32m    167\u001b[0m \u001b[0;34m\u001b[0m\u001b[0m\n\u001b[1;32m    168\u001b[0m         \u001b[0;32mif\u001b[0m \u001b[0mself\u001b[0m\u001b[0;34m.\u001b[0m\u001b[0mstream\u001b[0m\u001b[0;34m:\u001b[0m\u001b[0;34m\u001b[0m\u001b[0m\n",
      "\u001b[0;31mTwitterRequestError\u001b[0m: Twitter request failed (429)"
     ]
    }
   ],
   "source": [
    "candidate2friends = get_all_friends(c[0] for c in candidates)"
   ]
  },
  {
   "cell_type": "code",
   "execution_count": null,
   "metadata": {
    "collapsed": false
   },
   "outputs": [],
   "source": [
    "# Print the number of friends per candidate, sorted by candidate name.\n",
    "def print_num_friends(candidate2friends):\n",
    "    # TODO\n",
    "    for candidate_name, friends in candidate2friends.items():\n",
    "        print candidate_name, len(friends) \n",
    "    \n",
    "print_num_friends(candidate2friends)"
   ]
  },
  {
   "cell_type": "code",
   "execution_count": null,
   "metadata": {
    "collapsed": false
   },
   "outputs": [],
   "source": [
    "# Who is the most popular friend? (i.e., which friend is followed by the most number of candidates?\n",
    "def count_friends(candidate2friends):\n",
    "    \"\"\" Count how often each friend is followed.\n",
    "    Args:\n",
    "        candidate2friends: a dict mapping each candidate to a list of friends\n",
    "    Returns:\n",
    "        a Counter object mapping each friend to the number of candidates who follow them.\n",
    "        Counter documentation: https://docs.python.org/dev/library/collections.html#collections.Counter\n",
    "    \"\"\"\n",
    "    # TODO\n",
    "    friend_list = []\n",
    "    for item in candidate2friends.values():\n",
    "        friend_list.extend(item)\n",
    "    return Counter(friend_list)\n",
    "    \n",
    "\n",
    "friend_counts = count_friends(candidate2friends)\n",
    "print friend_counts.most_common(5)"
   ]
  },
  {
   "cell_type": "code",
   "execution_count": null,
   "metadata": {
    "collapsed": false
   },
   "outputs": [],
   "source": [
    "# Who are the most popular friends by party?\n",
    "print('popular Republican friends:')\n",
    "republican_counts = count_friends({k: v for k, v in candidate2friends.items() if k in republicans})\n",
    "print republican_counts.most_common(5)\n",
    "\n",
    "print('popular Democrat friends:')\n",
    "democrat_counts = count_friends({k: v for k, v in candidate2friends.items() if k in democrats})\n",
    "print democrat_counts.most_common(5)"
   ]
  },
  {
   "cell_type": "code",
   "execution_count": null,
   "metadata": {
    "collapsed": false
   },
   "outputs": [],
   "source": [
    "# Do any candidates from one party actually follow a candidate from another party?\n",
    "def bipartisan_count(republicans, democrats, candidate2friends):\n",
    "    print('How many Democrats does each Republican follow?')        \n",
    "    for r in republicans:\n",
    "        print('%20s %d' % (r, len(set(democrats) & set(candidate2friends[r]))))\n",
    "    print('How many Republicans does each Democrat follow?')        \n",
    "    for d in democrats:\n",
    "        print('%20s %d' % (d, len(set(republicans) & set(candidate2friends[d]))))\n",
    "\n",
    "bipartisan_count(republicans, democrats, candidate2friends)"
   ]
  },
  {
   "cell_type": "code",
   "execution_count": null,
   "metadata": {
    "collapsed": false
   },
   "outputs": [],
   "source": [
    "\"\"\"\n",
    "Since there's no direct links between Republicans and Democrats, we propose a different measure.\n",
    "For each Republican, we cound the number of friends they have that are followed by at least one Democrat.\n",
    "E.g., If JebBush(R) follows one user, POTUS, and HillaryClinton(D) also follows POTUS, then JebBush will have score 1.\n",
    "\"\"\"\n",
    "def score_republicans(republicans, democrat_counts, candidate2friends):\n",
    "    \"\"\"\n",
    "    Args:\n",
    "        republicans...list of strings, one per Republican\n",
    "        democrat_counts...string-int dict mapping each friend to the number of Democrats who follow thiem.\n",
    "        candidate2friends...string-list dict mapping each candidate to their list of friends.\n",
    "    Returns:\n",
    "        A list of (string, int) pairs, one per Republican candidate, indicating the number\n",
    "        of friends the Republican has that are also followed by at least one Democrat.\n",
    "    \"\"\"\n",
    "    # TODO\n",
    "    republican2score = []\n",
    "    for republican_name in republicans:\n",
    "        friends = candidate2friends[republican_name]\n",
    "        score = 0\n",
    "        for friend_name in friends:\n",
    "            if democrat_counts[friend_name] > 0:\n",
    "                score += 1\n",
    "        republican2score.append({republican_name, score})\n",
    "    return republican2score\n",
    "    \n",
    "    \n",
    "republican_scores = score_republicans(republicans, democrat_counts, candidate2friends)\n",
    "print 'How many second-degree Democratic friends does each Republican have?'\n",
    "print '\\n'.join('%20s %d' % (x[0], x[1]) for x in sorted(republican_scores, key=lambda x: x[1], reverse=True))"
   ]
  },
  {
   "cell_type": "code",
   "execution_count": null,
   "metadata": {
    "collapsed": false
   },
   "outputs": [],
   "source": [
    "def create_graph(candidate2friends, friend_counts):\n",
    "    \"\"\" Create a networkx DiGraph, adding each candidate/friend as a node. \n",
    "        Note: while all candidates should be added to the graph,\n",
    "        only add friends for which friend_counts[friend] > 1. (This is to reduce clutter.)\n",
    "    Args:\n",
    "      candidate2friends: dict mapping each candidate to the list of friends\n",
    "      friend_counts\n",
    "    Returns:\n",
    "      A networkx DiGraph\n",
    "    \"\"\"\n",
    "    # TODO\n",
    "    G = nx.Graph()\n",
    "    for candidate_name, friends in candidate2friends.items():\n",
    "        for friend in friends:\n",
    "            if friend_count[friend] > 1:\n",
    "                G.add_edge(candidate_name, friend)\n",
    "    return G\n",
    "    \n",
    "graph = create_graph(candidate2friends, friend_counts)\n",
    "print('graph has %s nodes and %s edges' % (len(graph.nodes()), len(graph.edges())))"
   ]
  },
  {
   "cell_type": "code",
   "execution_count": null,
   "metadata": {
    "collapsed": false
   },
   "outputs": [],
   "source": [
    "def get_color(name, republicans, democrats):\n",
    "    if name in republicans:\n",
    "        return 'r'\n",
    "    elif name in democrats:\n",
    "        return 'b'\n",
    "    else:\n",
    "        return 'w'\n",
    "\n",
    "def draw_network(graph, republicans, democrats, candidate2friends, friend_counts):\n",
    "    colors = [get_color(name, republicans, democrats) for name in graph.nodes()]\n",
    "    labels = {n: n if n in candidate2friends or friend_counts[n] > 3 else '' for n in graph.nodes()}\n",
    "    plt.figure(figsize=(12,12))\n",
    "    nx.draw_networkx(graph, node_color=colors,\n",
    "                     labels=labels, alpha=.5, width=.1,\n",
    "                     node_size=100)\n",
    "    plt.axis(\"off\")\n",
    "    plt.show()\n",
    "    \n",
    "draw_network(graph, republicans, democrats, candidate2friends, friend_counts)"
   ]
  },
  {
   "cell_type": "code",
   "execution_count": null,
   "metadata": {
    "collapsed": false
   },
   "outputs": [],
   "source": [
    "# This will write some information to a text file, which we'll use to help grading.\n",
    "# Be sure to run this code once at the end and check the resulting file (output.txt) into Github.\n",
    "import json\n",
    "outf = open('output.txt', 'wt')\n",
    "json.dump({'candidates': sorted(candidates),\n",
    "            'republicans': sorted(republicans),\n",
    "            'democrats': sorted(democrats),\n",
    "            'republican_counts': sorted(count_friends({k: v for k, v in candidate2friends.items() if k in republicans}).most_common(10)),\n",
    "            'democrat_counts': sorted(count_friends({k: v for k, v in candidate2friends.items() if k in democrats}).most_common(10)),\n",
    "            'num_nodes': len(graph.nodes()),\n",
    "            'num_edges': len(graph.edges()),\n",
    "            'republican_scores': sorted(republican_scores),\n",
    "          }, outf, indent=2, sort_keys=True)\n",
    "outf.close()"
   ]
  },
  {
   "cell_type": "markdown",
   "metadata": {},
   "source": [
    "That's it for now! This should give you an introduction to some of the data we'll study in this course."
   ]
  }
 ],
 "metadata": {
  "kernelspec": {
   "display_name": "Python 2",
   "language": "python",
   "name": "python2"
  },
  "language_info": {
   "codemirror_mode": {
    "name": "ipython",
    "version": 2
   },
   "file_extension": ".py",
   "mimetype": "text/x-python",
   "name": "python",
   "nbconvert_exporter": "python",
   "pygments_lexer": "ipython2",
   "version": "2.7.10"
  }
 },
 "nbformat": 4,
 "nbformat_minor": 0
}
